{
 "cells": [
  {
   "cell_type": "markdown",
   "id": "b2a30154",
   "metadata": {},
   "source": [
    "# Volatility Modeling Using ARCH, GARCH & EWMA\n",
    "This notebook demonstrates how to model financial market volatility using **ARCH**, **GARCH**, and **EWMA** models."
   ]
  },
  {
   "cell_type": "code",
   "execution_count": 1,
   "id": "073897f6",
   "metadata": {},
   "outputs": [],
   "source": [
    "import numpy as np\n",
    "import pandas as pd\n",
    "import requests\n",
    "from io import StringIO\n",
    "\n",
    "import yfinance as yf\n",
    "from arch import arch_model\n",
    "from arch import arch_model"
   ]
  },
  {
   "cell_type": "markdown",
   "id": "7fdf781c",
   "metadata": {},
   "source": [
    "## Download data"
   ]
  },
  {
   "cell_type": "code",
   "execution_count": 2,
   "id": "acddcd8c",
   "metadata": {},
   "outputs": [
    {
     "data": {
      "text/plain": [
       "timestamp\n",
       "2025-10-13    307.97\n",
       "2025-10-10    300.89\n",
       "2025-10-09    305.53\n",
       "2025-10-08    304.03\n",
       "2025-10-07    307.69\n",
       "               ...  \n",
       "2025-05-28    263.49\n",
       "2025-05-27    265.29\n",
       "2025-05-23    260.71\n",
       "2025-05-22    260.67\n",
       "2025-05-21    261.04\n",
       "Name: close, Length: 100, dtype: float64"
      ]
     },
     "execution_count": 2,
     "metadata": {},
     "output_type": "execute_result"
    }
   ],
   "source": [
    "api_key = 'SLK1N6T6LSBSR8NK'  # (Replace with your own key if needed)\n",
    "symbol = 'JPM'\n",
    "url = f'https://www.alphavantage.co/query?function=TIME_SERIES_DAILY&symbol={symbol}&apikey={api_key}&datatype=csv'\n",
    "response = requests.get(url)\n",
    "\n",
    "df = pd.read_csv(StringIO(response.text))\n",
    "df.index = df['timestamp']\n",
    "df = df.loc[:'2015-01-01']\n",
    "df = df['close']\n",
    "df"
   ]
  },
  {
   "cell_type": "markdown",
   "id": "648a96bd",
   "metadata": {},
   "source": [
    "## ARCH Model"
   ]
  },
  {
   "cell_type": "code",
   "execution_count": 3,
   "id": "6045b3c5",
   "metadata": {},
   "outputs": [
    {
     "name": "stderr",
     "output_type": "stream",
     "text": [
      "C:\\Users\\Startklar\\AppData\\Local\\Temp\\ipykernel_6680\\3600702999.py:1: FutureWarning: YF.download() has changed argument auto_adjust default to True\n",
      "  df = yf.download('JPM', start='2022-01-01', end='2025-01-01')\n",
      "[*********************100%***********************]  1 of 1 completed\n"
     ]
    },
    {
     "data": {
      "text/html": [
       "<table class=\"simpletable\">\n",
       "<caption>Constant Mean - ARCH Model Results</caption>\n",
       "<tr>\n",
       "  <th>Dep. Variable:</th>       <td>returns</td>      <th>  R-squared:         </th>  <td>   0.000</td> \n",
       "</tr>\n",
       "<tr>\n",
       "  <th>Mean Model:</th>       <td>Constant Mean</td>   <th>  Adj. R-squared:    </th>  <td>   0.000</td> \n",
       "</tr>\n",
       "<tr>\n",
       "  <th>Vol Model:</th>            <td>ARCH</td>        <th>  Log-Likelihood:    </th> <td>  -1400.95</td>\n",
       "</tr>\n",
       "<tr>\n",
       "  <th>Distribution:</th>        <td>Normal</td>       <th>  AIC:               </th> <td>   2807.90</td>\n",
       "</tr>\n",
       "<tr>\n",
       "  <th>Method:</th>        <td>Maximum Likelihood</td> <th>  BIC:               </th> <td>   2821.76</td>\n",
       "</tr>\n",
       "<tr>\n",
       "  <th></th>                        <td></td>          <th>  No. Observations:  </th>     <td>752</td>   \n",
       "</tr>\n",
       "<tr>\n",
       "  <th>Date:</th>           <td>Tue, Oct 14 2025</td>  <th>  Df Residuals:      </th>     <td>751</td>   \n",
       "</tr>\n",
       "<tr>\n",
       "  <th>Time:</th>               <td>19:56:18</td>      <th>  Df Model:          </th>      <td>1</td>    \n",
       "</tr>\n",
       "</table>\n",
       "<table class=\"simpletable\">\n",
       "<caption>Mean Model</caption>\n",
       "<tr>\n",
       "   <td></td>     <th>coef</th>     <th>std err</th>      <th>t</th>       <th>P>|t|</th>     <th>95.0% Conf. Int.</th>  \n",
       "</tr>\n",
       "<tr>\n",
       "  <th>mu</th> <td>    0.0978</td> <td>5.518e-02</td> <td>    1.772</td> <td>7.646e-02</td> <td>[-1.039e-02,  0.206]</td>\n",
       "</tr>\n",
       "</table>\n",
       "<table class=\"simpletable\">\n",
       "<caption>Volatility Model</caption>\n",
       "<tr>\n",
       "      <td></td>        <th>coef</th>     <th>std err</th>      <th>t</th>       <th>P>|t|</th>     <th>95.0% Conf. Int.</th>  \n",
       "</tr>\n",
       "<tr>\n",
       "  <th>omega</th>    <td>    2.1877</td> <td>    0.332</td> <td>    6.584</td> <td>4.591e-11</td>   <td>[  1.536,  2.839]</td> \n",
       "</tr>\n",
       "<tr>\n",
       "  <th>alpha[1]</th> <td>    0.1224</td> <td>7.467e-02</td> <td>    1.639</td> <td>    0.101</td> <td>[-2.394e-02,  0.269]</td>\n",
       "</tr>\n",
       "</table><br/><br/>Covariance estimator: robust"
      ],
      "text/latex": [
       "\\begin{center}\n",
       "\\begin{tabular}{lclc}\n",
       "\\toprule\n",
       "\\textbf{Dep. Variable:} &      returns       & \\textbf{  R-squared:         } &     0.000   \\\\\n",
       "\\textbf{Mean Model:}    &   Constant Mean    & \\textbf{  Adj. R-squared:    } &     0.000   \\\\\n",
       "\\textbf{Vol Model:}     &        ARCH        & \\textbf{  Log-Likelihood:    } &   -1400.95  \\\\\n",
       "\\textbf{Distribution:}  &       Normal       & \\textbf{  AIC:               } &    2807.90  \\\\\n",
       "\\textbf{Method:}        & Maximum Likelihood & \\textbf{  BIC:               } &    2821.76  \\\\\n",
       "\\textbf{}               &                    & \\textbf{  No. Observations:  } &    752      \\\\\n",
       "\\textbf{Date:}          &  Tue, Oct 14 2025  & \\textbf{  Df Residuals:      } &    751      \\\\\n",
       "\\textbf{Time:}          &      19:56:18      & \\textbf{  Df Model:          } &     1       \\\\\n",
       "\\bottomrule\n",
       "\\end{tabular}\n",
       "\\begin{tabular}{lccccc}\n",
       "            & \\textbf{coef} & \\textbf{std err} & \\textbf{t} & \\textbf{P$> |$t$|$} & \\textbf{95.0\\% Conf. Int.}  \\\\\n",
       "\\midrule\n",
       "\\textbf{mu} &       0.0978  &    5.518e-02     &     1.772  &      7.646e-02       &    [-1.039e-02,  0.206]     \\\\\n",
       "                  & \\textbf{coef} & \\textbf{std err} & \\textbf{t} & \\textbf{P$> |$t$|$} & \\textbf{95.0\\% Conf. Int.}  \\\\\n",
       "\\midrule\n",
       "\\textbf{omega}    &       2.1877  &        0.332     &     6.584  &      4.591e-11       &     [  1.536,  2.839]       \\\\\n",
       "\\textbf{alpha[1]} &       0.1224  &    7.467e-02     &     1.639  &          0.101       &    [-2.394e-02,  0.269]     \\\\\n",
       "\\bottomrule\n",
       "\\end{tabular}\n",
       "%\\caption{Constant Mean - ARCH Model Results}\n",
       "\\end{center}\n",
       "\n",
       "Covariance estimator: robust"
      ],
      "text/plain": [
       "<class 'statsmodels.iolib.summary.Summary'>\n",
       "\"\"\"\n",
       "                      Constant Mean - ARCH Model Results                      \n",
       "==============================================================================\n",
       "Dep. Variable:                returns   R-squared:                       0.000\n",
       "Mean Model:             Constant Mean   Adj. R-squared:                  0.000\n",
       "Vol Model:                       ARCH   Log-Likelihood:               -1400.95\n",
       "Distribution:                  Normal   AIC:                           2807.90\n",
       "Method:            Maximum Likelihood   BIC:                           2821.76\n",
       "                                        No. Observations:                  752\n",
       "Date:                Tue, Oct 14 2025   Df Residuals:                      751\n",
       "Time:                        19:56:18   Df Model:                            1\n",
       "                                 Mean Model                                \n",
       "===========================================================================\n",
       "                 coef    std err          t      P>|t|     95.0% Conf. Int.\n",
       "---------------------------------------------------------------------------\n",
       "mu             0.0978  5.518e-02      1.772  7.646e-02 [-1.039e-02,  0.206]\n",
       "                              Volatility Model                             \n",
       "===========================================================================\n",
       "                 coef    std err          t      P>|t|     95.0% Conf. Int.\n",
       "---------------------------------------------------------------------------\n",
       "omega          2.1877      0.332      6.584  4.591e-11    [  1.536,  2.839]\n",
       "alpha[1]       0.1224  7.467e-02      1.639      0.101 [-2.394e-02,  0.269]\n",
       "===========================================================================\n",
       "\n",
       "Covariance estimator: robust\n",
       "\"\"\""
      ]
     },
     "execution_count": 3,
     "metadata": {},
     "output_type": "execute_result"
    }
   ],
   "source": [
    "df = yf.download('JPM', start='2022-01-01', end='2025-01-01')\n",
    "df['returns'] = df['Close'].pct_change() * 100  # daily % return\n",
    "returns = df['returns'].dropna() #drop missing values\n",
    "\n",
    "model = arch_model(returns, vol='ARCH', p=1)\n",
    "results = model.fit(disp='off') #Create and fit ARCH(1) model\n",
    "\n",
    "results.summary() #Show summary"
   ]
  },
  {
   "cell_type": "code",
   "execution_count": 4,
   "id": "7861d13d",
   "metadata": {},
   "outputs": [
    {
     "name": "stderr",
     "output_type": "stream",
     "text": [
      "C:\\Users\\Startklar\\AppData\\Local\\Temp\\ipykernel_6680\\1083604519.py:13: FutureWarning: YF.download() has changed argument auto_adjust default to True\n",
      "  real_df = yf.download('JPM', start_date, end_date)\n",
      "[*********************100%***********************]  1 of 1 completed"
     ]
    },
    {
     "name": "stdout",
     "output_type": "stream",
     "text": [
      "ARCH Model Predicted Volatility: 1.5562543999999998\n",
      "ARCH Model Actual Volatility: 1.6919531359238498\n"
     ]
    },
    {
     "name": "stderr",
     "output_type": "stream",
     "text": [
      "\n"
     ]
    }
   ],
   "source": [
    "forecast = results.forecast(horizon=5) #Forecast 5 days ahead\n",
    "predicted_variance = forecast.variance\n",
    "predicted_volatility = predicted_variance ** 0.5\n",
    "#predicted_volatility\n",
    "\n",
    "\n",
    "predicted_volatility = [1.479269, 1.567023, 1.577429, 1.578698, 1.578853] # Calculate average of predicted volatility\n",
    "predicted_avg_vol = sum(predicted_volatility) / len(predicted_volatility)\n",
    "#predicted_avg_vol\n",
    "\n",
    "start_date = pd.to_datetime('2024-12-31')\n",
    "end_date = pd.to_datetime('2025-01-09')  # buffer for weekends and holidays\n",
    "real_df = yf.download('JPM', start_date, end_date)\n",
    "real_df['returns'] = real_df['Close'].pct_change() * 100 # Calculate realized volatility\n",
    "real_df = real_df.dropna()\n",
    "\n",
    "realized_vol = real_df['returns'].std() * np.sqrt(5)\n",
    "\n",
    "print(\"ARCH Model Predicted Volatility:\", predicted_avg_vol)\n",
    "print(\"ARCH Model Actual Volatility:\", realized_vol)"
   ]
  },
  {
   "cell_type": "markdown",
   "id": "3cf3242f",
   "metadata": {},
   "source": [
    "## GARCH Model"
   ]
  },
  {
   "cell_type": "code",
   "execution_count": 5,
   "id": "c43ed887",
   "metadata": {},
   "outputs": [
    {
     "name": "stderr",
     "output_type": "stream",
     "text": [
      "C:\\Users\\Startklar\\AppData\\Local\\Temp\\ipykernel_6680\\2699400612.py:1: FutureWarning: YF.download() has changed argument auto_adjust default to True\n",
      "  df = yf.download('JPM', start='2022-01-01', end='2025-01-01')\n",
      "[*********************100%***********************]  1 of 1 completed\n"
     ]
    },
    {
     "data": {
      "text/html": [
       "<table class=\"simpletable\">\n",
       "<caption>Constant Mean - GARCH Model Results</caption>\n",
       "<tr>\n",
       "  <th>Dep. Variable:</th>       <td>returns</td>      <th>  R-squared:         </th>  <td>   0.000</td> \n",
       "</tr>\n",
       "<tr>\n",
       "  <th>Mean Model:</th>       <td>Constant Mean</td>   <th>  Adj. R-squared:    </th>  <td>   0.000</td> \n",
       "</tr>\n",
       "<tr>\n",
       "  <th>Vol Model:</th>            <td>GARCH</td>       <th>  Log-Likelihood:    </th> <td>  -1387.47</td>\n",
       "</tr>\n",
       "<tr>\n",
       "  <th>Distribution:</th>        <td>Normal</td>       <th>  AIC:               </th> <td>   2782.94</td>\n",
       "</tr>\n",
       "<tr>\n",
       "  <th>Method:</th>        <td>Maximum Likelihood</td> <th>  BIC:               </th> <td>   2801.43</td>\n",
       "</tr>\n",
       "<tr>\n",
       "  <th></th>                        <td></td>          <th>  No. Observations:  </th>     <td>752</td>   \n",
       "</tr>\n",
       "<tr>\n",
       "  <th>Date:</th>           <td>Tue, Oct 14 2025</td>  <th>  Df Residuals:      </th>     <td>751</td>   \n",
       "</tr>\n",
       "<tr>\n",
       "  <th>Time:</th>               <td>19:56:18</td>      <th>  Df Model:          </th>      <td>1</td>    \n",
       "</tr>\n",
       "</table>\n",
       "<table class=\"simpletable\">\n",
       "<caption>Mean Model</caption>\n",
       "<tr>\n",
       "   <td></td>     <th>coef</th>     <th>std err</th>      <th>t</th>       <th>P>|t|</th>    <th>95.0% Conf. Int.</th>  \n",
       "</tr>\n",
       "<tr>\n",
       "  <th>mu</th> <td>    0.1146</td> <td>5.754e-02</td> <td>    1.991</td> <td>4.648e-02</td> <td>[1.786e-03,  0.227]</td>\n",
       "</tr>\n",
       "</table>\n",
       "<table class=\"simpletable\">\n",
       "<caption>Volatility Model</caption>\n",
       "<tr>\n",
       "      <td></td>        <th>coef</th>     <th>std err</th>      <th>t</th>       <th>P>|t|</th>      <th>95.0% Conf. Int.</th>   \n",
       "</tr>\n",
       "<tr>\n",
       "  <th>omega</th>    <td>    0.0220</td> <td>1.702e-02</td> <td>    1.294</td> <td>    0.196</td> <td>[-1.134e-02,5.537e-02]</td>\n",
       "</tr>\n",
       "<tr>\n",
       "  <th>alpha[1]</th> <td>    0.0165</td> <td>1.112e-02</td> <td>    1.481</td> <td>    0.139</td> <td>[-5.326e-03,3.827e-02]</td>\n",
       "</tr>\n",
       "<tr>\n",
       "  <th>beta[1]</th>  <td>    0.9737</td> <td>1.217e-02</td> <td>   79.976</td>   <td>0.000</td>      <td>[  0.950,  0.998]</td>  \n",
       "</tr>\n",
       "</table><br/><br/>Covariance estimator: robust"
      ],
      "text/latex": [
       "\\begin{center}\n",
       "\\begin{tabular}{lclc}\n",
       "\\toprule\n",
       "\\textbf{Dep. Variable:} &      returns       & \\textbf{  R-squared:         } &     0.000   \\\\\n",
       "\\textbf{Mean Model:}    &   Constant Mean    & \\textbf{  Adj. R-squared:    } &     0.000   \\\\\n",
       "\\textbf{Vol Model:}     &       GARCH        & \\textbf{  Log-Likelihood:    } &   -1387.47  \\\\\n",
       "\\textbf{Distribution:}  &       Normal       & \\textbf{  AIC:               } &    2782.94  \\\\\n",
       "\\textbf{Method:}        & Maximum Likelihood & \\textbf{  BIC:               } &    2801.43  \\\\\n",
       "\\textbf{}               &                    & \\textbf{  No. Observations:  } &    752      \\\\\n",
       "\\textbf{Date:}          &  Tue, Oct 14 2025  & \\textbf{  Df Residuals:      } &    751      \\\\\n",
       "\\textbf{Time:}          &      19:56:18      & \\textbf{  Df Model:          } &     1       \\\\\n",
       "\\bottomrule\n",
       "\\end{tabular}\n",
       "\\begin{tabular}{lccccc}\n",
       "            & \\textbf{coef} & \\textbf{std err} & \\textbf{t} & \\textbf{P$> |$t$|$} & \\textbf{95.0\\% Conf. Int.}  \\\\\n",
       "\\midrule\n",
       "\\textbf{mu} &       0.1146  &    5.754e-02     &     1.991  &      4.648e-02       &    [1.786e-03,  0.227]      \\\\\n",
       "                  & \\textbf{coef} & \\textbf{std err} & \\textbf{t} & \\textbf{P$> |$t$|$} & \\textbf{95.0\\% Conf. Int.}  \\\\\n",
       "\\midrule\n",
       "\\textbf{omega}    &       0.0220  &    1.702e-02     &     1.294  &          0.196       &   [-1.134e-02,5.537e-02]    \\\\\n",
       "\\textbf{alpha[1]} &       0.0165  &    1.112e-02     &     1.481  &          0.139       &   [-5.326e-03,3.827e-02]    \\\\\n",
       "\\textbf{beta[1]}  &       0.9737  &    1.217e-02     &    79.976  &        0.000         &     [  0.950,  0.998]       \\\\\n",
       "\\bottomrule\n",
       "\\end{tabular}\n",
       "%\\caption{Constant Mean - GARCH Model Results}\n",
       "\\end{center}\n",
       "\n",
       "Covariance estimator: robust"
      ],
      "text/plain": [
       "<class 'statsmodels.iolib.summary.Summary'>\n",
       "\"\"\"\n",
       "                     Constant Mean - GARCH Model Results                      \n",
       "==============================================================================\n",
       "Dep. Variable:                returns   R-squared:                       0.000\n",
       "Mean Model:             Constant Mean   Adj. R-squared:                  0.000\n",
       "Vol Model:                      GARCH   Log-Likelihood:               -1387.47\n",
       "Distribution:                  Normal   AIC:                           2782.94\n",
       "Method:            Maximum Likelihood   BIC:                           2801.43\n",
       "                                        No. Observations:                  752\n",
       "Date:                Tue, Oct 14 2025   Df Residuals:                      751\n",
       "Time:                        19:56:18   Df Model:                            1\n",
       "                                Mean Model                                \n",
       "==========================================================================\n",
       "                 coef    std err          t      P>|t|    95.0% Conf. Int.\n",
       "--------------------------------------------------------------------------\n",
       "mu             0.1146  5.754e-02      1.991  4.648e-02 [1.786e-03,  0.227]\n",
       "                               Volatility Model                              \n",
       "=============================================================================\n",
       "                 coef    std err          t      P>|t|       95.0% Conf. Int.\n",
       "-----------------------------------------------------------------------------\n",
       "omega          0.0220  1.702e-02      1.294      0.196 [-1.134e-02,5.537e-02]\n",
       "alpha[1]       0.0165  1.112e-02      1.481      0.139 [-5.326e-03,3.827e-02]\n",
       "beta[1]        0.9737  1.217e-02     79.976      0.000      [  0.950,  0.998]\n",
       "=============================================================================\n",
       "\n",
       "Covariance estimator: robust\n",
       "\"\"\""
      ]
     },
     "execution_count": 5,
     "metadata": {},
     "output_type": "execute_result"
    }
   ],
   "source": [
    "df = yf.download('JPM', start='2022-01-01', end='2025-01-01')\n",
    "\n",
    "df['returns'] = df['Close'].pct_change() * 100 #Calculate daily returns\n",
    "\n",
    "returns = df['returns'].dropna() #Drop missing values\n",
    "\n",
    "model = arch_model(returns, vol='GARCH', p=1, q=1) # Create and fit GARCH(1,1) model\n",
    "results = model.fit(disp='off')\n",
    "\n",
    "results.summary()"
   ]
  },
  {
   "cell_type": "code",
   "execution_count": 6,
   "id": "2c9fc4d8",
   "metadata": {},
   "outputs": [
    {
     "name": "stderr",
     "output_type": "stream",
     "text": [
      "C:\\Users\\Startklar\\AppData\\Local\\Temp\\ipykernel_6680\\216661278.py:13: FutureWarning: YF.download() has changed argument auto_adjust default to True\n",
      "  real_df = yf.download('JPM', start_date, end_date) #Realized volatility\n",
      "[*********************100%***********************]  1 of 1 completed"
     ]
    },
    {
     "name": "stdout",
     "output_type": "stream",
     "text": [
      "GARCH Model Predicted Volatility: 1.6210434\n",
      "GARCH Model Actual Volatility: 1.6919531359238498\n"
     ]
    },
    {
     "name": "stderr",
     "output_type": "stream",
     "text": [
      "\n"
     ]
    }
   ],
   "source": [
    "forecast = results.forecast(horizon=5) #Forecast 5 days ahead\n",
    "predicted_variance = forecast.variance\n",
    "predicted_volatility = predicted_variance ** 0.5\n",
    "predicted_volatility\n",
    "\n",
    "predicted_volatility = [1.623483, 1.622252, 1.621032, 1.619824, 1.618626] #Calculate average of predicted volatility\n",
    "predicted_avg_vol = sum(predicted_volatility) / len(predicted_volatility)\n",
    "predicted_avg_vol\n",
    "\n",
    "start_date = pd.to_datetime('2024-12-31')\n",
    "end_date = pd.to_datetime('2025-01-09')\n",
    "\n",
    "real_df = yf.download('JPM', start_date, end_date) #Realized volatility\n",
    "real_df['returns'] = real_df['Close'].pct_change() * 100\n",
    "real_df = real_df.dropna()\n",
    "\n",
    "realized_vol = real_df['returns'].std() * np.sqrt(5)\n",
    "\n",
    "print(\"GARCH Model Predicted Volatility:\", predicted_avg_vol)\n",
    "print(\"GARCH Model Actual Volatility:\", realized_vol)"
   ]
  },
  {
   "cell_type": "markdown",
   "id": "53f0bc10",
   "metadata": {},
   "source": [
    "## EWMA Model"
   ]
  },
  {
   "cell_type": "code",
   "execution_count": 7,
   "id": "e4c9c583",
   "metadata": {},
   "outputs": [
    {
     "name": "stderr",
     "output_type": "stream",
     "text": [
      "C:\\Users\\Startklar\\AppData\\Local\\Temp\\ipykernel_6680\\2137982070.py:1: FutureWarning: YF.download() has changed argument auto_adjust default to True\n",
      "  df = yf.download('JPM', start='2022-01-01', end='2025-01-01')\n",
      "[*********************100%***********************]  1 of 1 completed\n",
      "C:\\Users\\Startklar\\AppData\\Local\\Temp\\ipykernel_6680\\2137982070.py:23: FutureWarning: YF.download() has changed argument auto_adjust default to True\n",
      "  real_df = yf.download('JPM', start_date, end_date)\n",
      "[*********************100%***********************]  1 of 1 completed\n"
     ]
    }
   ],
   "source": [
    "df = yf.download('JPM', start='2022-01-01', end='2025-01-01')\n",
    "\n",
    "df['returns'] = df['Close'].pct_change() #Daily returns\n",
    "df = df.dropna()\n",
    "\n",
    "lamda = 0.94 #Set lambda for EWMA\n",
    "\n",
    "ewma_var = []\n",
    "var_t = df['returns'].var() #Initialize variance\n",
    "\n",
    "for ret in df['returns']:\n",
    "    variance_tplus1 = lamda * var_t + (1 - lamda) * (ret ** 2)\n",
    "    ewma_var.append(variance_tplus1) #Determine EWMA\n",
    "\n",
    "df['ewma_vol'] = np.sqrt(ewma_var)\n",
    "\n",
    "latest_daily_vol = df['ewma_vol'].iloc[-1] #Predicted volatility\n",
    "latest_daily_vol\n",
    "\n",
    "start_date = pd.to_datetime('2024-12-31')\n",
    "end_date = pd.to_datetime('2025-01-03')\n",
    "\n",
    "real_df = yf.download('JPM', start_date, end_date)\n",
    "real_df['returns'] = real_df['Close'].pct_change() * 100\n",
    "real_df = real_df.dropna() #Real volatility\n",
    "\n",
    "realized_vol = real_df['returns']\n",
    "#realized_vol\n"
   ]
  }
 ],
 "metadata": {
  "kernelspec": {
   "display_name": "Python (quant-risk)",
   "language": "python",
   "name": "quant-risk"
  },
  "language_info": {
   "codemirror_mode": {
    "name": "ipython",
    "version": 3
   },
   "file_extension": ".py",
   "mimetype": "text/x-python",
   "name": "python",
   "nbconvert_exporter": "python",
   "pygments_lexer": "ipython3",
   "version": "3.11.9"
  }
 },
 "nbformat": 4,
 "nbformat_minor": 5
}
