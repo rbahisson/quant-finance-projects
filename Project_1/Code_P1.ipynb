{
 "cells": [
  {
   "cell_type": "code",
   "execution_count": null,
   "id": "9042aa12",
   "metadata": {},
   "outputs": [],
   "source": [
    "import numpy as np \n",
    "import pandas as pd \n",
    "import matplotlib.pyplot as plt \n",
    "import plotly.express as px \n",
    "import yfinance as yf "
   ]
  },
  {
   "cell_type": "markdown",
   "id": "e362ddc1",
   "metadata": {},
   "source": [
    "# Download the data"
   ]
  },
  {
   "cell_type": "code",
   "execution_count": null,
   "id": "186c7e49",
   "metadata": {},
   "outputs": [],
   "source": [
    "#Download data from Yahoo Finance\n",
    "\n",
    "##JPM: JP Morgan \n",
    "##MS: Morgan Stanley \n",
    "##BAC: BofA\n",
    "\n",
    "tickers = ['JPM', 'MS', 'BAC']\n",
    "start_date= '2024-01-01'\n",
    "end_date= '2025-01-01'\n",
    "\n",
    "#we only need the closed value \n",
    "data = yf.download(tickers, start=start_date, end=end_date)['Close']\n",
    "#data.head()"
   ]
  },
  {
   "cell_type": "code",
   "execution_count": null,
   "id": "025e24db",
   "metadata": {},
   "outputs": [],
   "source": [
    "#Visualize all of our data \n",
    "px.line(data, title='Closing Price for BAC, MS & JPM')\n",
    "#px.line(data, x=data.index, y=data['MS'], title='Morgan Stanley', color_discrete_sequence=['red'])"
   ]
  },
  {
   "cell_type": "markdown",
   "id": "1c689801",
   "metadata": {},
   "source": [
    "# Calculate Returns"
   ]
  },
  {
   "cell_type": "markdown",
   "id": "8a39f56e",
   "metadata": {},
   "source": [
    "## Simple"
   ]
  },
  {
   "cell_type": "code",
   "execution_count": null,
   "id": "4d8531de",
   "metadata": {},
   "outputs": [],
   "source": [
    "#Compute Simple Return : (S(t) - S(t-1))/S(t-1) \n",
    "\n",
    "simple_returns = data.pct_change()\n",
    "simple_returns = simple_returns.dropna()\n",
    "#simple_returns.head()"
   ]
  },
  {
   "cell_type": "markdown",
   "id": "aef18326",
   "metadata": {},
   "source": [
    "## Log"
   ]
  },
  {
   "cell_type": "code",
   "execution_count": null,
   "id": "613a0bad",
   "metadata": {},
   "outputs": [],
   "source": [
    "#Calculate Log Return: ln(S(t) / S(t-1)) \n",
    "\n",
    "log_returns = np.log(data/data.shift(1))\n",
    "log_returns = log_returns.dropna()\n",
    "#log_returns.head()"
   ]
  },
  {
   "cell_type": "markdown",
   "id": "02c46ace",
   "metadata": {},
   "source": [
    "# Portfolio Returns"
   ]
  },
  {
   "cell_type": "markdown",
   "id": "76d9c2d4",
   "metadata": {},
   "source": [
    "## Simple"
   ]
  },
  {
   "cell_type": "code",
   "execution_count": null,
   "id": "c464c2aa",
   "metadata": {},
   "outputs": [],
   "source": [
    "#Portfolio Returns (Rp = w1r1 + w2r2 +w3r3)\n",
    "\n",
    "weights = np.array([1/3, 1/3, 1/3])\n",
    "portfolio_simple_returns = simple_returns.dot(weights)\n",
    "#portfolio_simple_returns.head()"
   ]
  },
  {
   "cell_type": "markdown",
   "id": "ba2f508c",
   "metadata": {},
   "source": [
    "## Log"
   ]
  },
  {
   "cell_type": "code",
   "execution_count": null,
   "id": "356d1706",
   "metadata": {},
   "outputs": [],
   "source": [
    "#Portfolio log returns \n",
    "\n",
    "weights = np.array([1/3, 1/3, 1/3])\n",
    "portfolio_log_returns = log_returns.dot(weights)\n",
    "#portfolio_log_returns.head()"
   ]
  },
  {
   "cell_type": "markdown",
   "id": "a4da4789",
   "metadata": {},
   "source": [
    "## Annualized Portfolio Returns"
   ]
  },
  {
   "cell_type": "markdown",
   "id": "e304ba6d",
   "metadata": {},
   "source": [
    "### Simple"
   ]
  },
  {
   "cell_type": "code",
   "execution_count": null,
   "id": "e48de6a2",
   "metadata": {},
   "outputs": [],
   "source": [
    "#Portfolio - Simple Return (annualized)\n",
    "annualized_simple_return = ((1 + portfolio_simple_returns.mean()) ** 252) - 1\n",
    "print(annualized_simple_return) "
   ]
  },
  {
   "cell_type": "markdown",
   "id": "58c52fee",
   "metadata": {},
   "source": [
    "### Log"
   ]
  },
  {
   "cell_type": "code",
   "execution_count": null,
   "id": "e5d0a540",
   "metadata": {},
   "outputs": [],
   "source": [
    "#Portfolio - Log Return (annualized)\n",
    "annualized_log_return = ((1 + portfolio_log_returns.mean()) ** 252) - 1\n",
    "print(annualized_log_return)"
   ]
  },
  {
   "cell_type": "markdown",
   "id": "382cea69",
   "metadata": {},
   "source": [
    "# Volatility"
   ]
  },
  {
   "cell_type": "code",
   "execution_count": null,
   "id": "3a13989a",
   "metadata": {},
   "outputs": [],
   "source": [
    "#Volatility \n",
    "daily_volatility = np.std(portfolio_simple_returns)\n",
    "annual_volatility = daily_volatility * np.sqrt(252)\n",
    "print(annual_volatility)"
   ]
  },
  {
   "cell_type": "markdown",
   "id": "8a3d2c95",
   "metadata": {},
   "source": [
    "# Alpha & Beta"
   ]
  },
  {
   "cell_type": "code",
   "execution_count": null,
   "id": "489309be",
   "metadata": {},
   "outputs": [],
   "source": [
    "#Alpha and beta (SPY Data - S&P 500)\n",
    "# ^GSPC = S&P 500\n",
    "\n",
    "benchmark = yf.download('^GSPC', start=start_date, end=end_date)['Close']\n",
    "benchmark = benchmark.pct_change() #Simple returns for S&P 500\n",
    "benchmark = benchmark.dropna()\n",
    "#benchmark.head()\n"
   ]
  },
  {
   "cell_type": "markdown",
   "id": "bc4336aa",
   "metadata": {},
   "source": [
    "## Beta"
   ]
  },
  {
   "cell_type": "code",
   "execution_count": null,
   "id": "e1b8532d",
   "metadata": {},
   "outputs": [],
   "source": [
    "#Beta (= Covariance(Rp, Rm) / Var(Rm))\n",
    "\n",
    "#Make sure they both have similar nature\n",
    "portfolio_flat = portfolio_simple_returns.to_numpy().flatten()\n",
    "benchmark_flat = benchmark.to_numpy().flatten()\n",
    "\n",
    "cov_matrix = np.cov(portfolio_flat, benchmark_flat)\n",
    "beta = cov_matrix[0, 1] / cov_matrix[1,1]\n",
    "\n",
    "if beta < 1: \n",
    "    print('Our portfolio is less volatile than the market:')\n",
    "else: \n",
    "        print('Our portfolio is more volatile than the market: ')\n",
    "print(f'For every 1 percent change in the market, our portfolio tends to change by {beta} in the same direction.')\n"
   ]
  },
  {
   "cell_type": "markdown",
   "id": "43cfc288",
   "metadata": {},
   "source": [
    "## Alpha"
   ]
  },
  {
   "cell_type": "code",
   "execution_count": null,
   "id": "d6a7b134",
   "metadata": {},
   "outputs": [],
   "source": [
    "#Alpha : excess return of a portfolio relatiove to its benchmark \n",
    "\n",
    "risk_free_rate = 0.07\n",
    "alpha = (np.mean(portfolio_simple_returns) - risk_free_rate/252) - beta * (np.mean(benchmark) - risk_free_rate/252)\n",
    "alpha = alpha * 252 \n",
    "\n",
    "print(f'Our portfolio outperformed the benchmark by {100 * alpha} percent.')"
   ]
  },
  {
   "cell_type": "markdown",
   "id": "172d23ee",
   "metadata": {},
   "source": [
    "# Downside Deviation"
   ]
  },
  {
   "cell_type": "code",
   "execution_count": null,
   "id": "46b9e7ae",
   "metadata": {},
   "outputs": [],
   "source": [
    "#Downside deviation\n",
    "\n",
    "negative_returns = portfolio_simple_returns[portfolio_simple_returns < 0]\n",
    "downside_deviation = np.std(negative_returns)\n",
    "downside_deviation = downside_deviation * np.sqrt(252)\n",
    "print(downside_deviation)"
   ]
  },
  {
   "cell_type": "markdown",
   "id": "aca959b7",
   "metadata": {},
   "source": [
    "# Sharpe Ratio"
   ]
  },
  {
   "cell_type": "code",
   "execution_count": null,
   "id": "0f631746",
   "metadata": {},
   "outputs": [],
   "source": [
    "#Sharpe Ratio = (Rp - Rf)/ Sigma \n",
    "\n",
    "sharpe_ratio = (annualized_simple_return - risk_free_rate) / annual_volatility\n",
    "\n",
    "if sharpe_ratio > 1: \n",
    "    print('This sharpe ratio is considered to be really good:')\n",
    "    \n",
    "print(f'For every 1 unit of risk, the portfolio is generating {sharpe_ratio} units of excess return')"
   ]
  },
  {
   "cell_type": "markdown",
   "id": "84209528",
   "metadata": {},
   "source": [
    "# Sortino Ratio"
   ]
  },
  {
   "cell_type": "code",
   "execution_count": null,
   "id": "426e90cc",
   "metadata": {},
   "outputs": [],
   "source": [
    "#Sortino ratio = (Rp - Rf) / sigma(d)\n",
    "sortino_ratio = (annualized_simple_return - risk_free_rate) / downside_deviation\n",
    "\n",
    "if sortino_ratio > 1: \n",
    "    print('This sortino ratio is considered to be really good:')\n",
    "\n",
    "print(f'For every unit of downside risk, the portfolio is generating {sortino_ratio} units of excess return.')"
   ]
  },
  {
   "cell_type": "markdown",
   "id": "e94d9a02",
   "metadata": {},
   "source": [
    "# Calmar Ratio & Max. Drawdown"
   ]
  },
  {
   "cell_type": "code",
   "execution_count": null,
   "id": "f170eebf",
   "metadata": {},
   "outputs": [],
   "source": [
    "#Calmar Ratio = Rp / Max Drawdown \n",
    "#Max drawdown => Cumulative Return (Worst historical loss from peak to bottom) \n",
    "\n",
    "cumulative_simple_returns = (1 + portfolio_simple_returns).cumprod()\n",
    "max_drawdown = ((cumulative_simple_returns.cummax() - cumulative_simple_returns) / cumulative_simple_returns.cummax()).max()\n",
    "\n",
    "calmar_ratio = annualized_simple_return / max_drawdown\n",
    "\n",
    "print(max_drawdown, calmar_ratio)"
   ]
  },
  {
   "cell_type": "markdown",
   "id": "5fa95bd4",
   "metadata": {},
   "source": [
    "# Treynor Ratio"
   ]
  },
  {
   "cell_type": "markdown",
   "id": "472d58cb",
   "metadata": {},
   "source": [
    "(Rp - Rf)/ Beta "
   ]
  },
  {
   "cell_type": "code",
   "execution_count": null,
   "id": "ce550c64",
   "metadata": {},
   "outputs": [],
   "source": [
    "treynor_ratio = (annualized_simple_return - risk_free_rate) / beta\n",
    "\n",
    "print(treynor_ratio)"
   ]
  },
  {
   "cell_type": "markdown",
   "id": "7017943d",
   "metadata": {},
   "source": [
    "# Value at Risk"
   ]
  },
  {
   "cell_type": "code",
   "execution_count": null,
   "id": "426d859e",
   "metadata": {},
   "outputs": [],
   "source": [
    "#Value at Risk (historical method) => potential loss in your portfolio \n",
    "\n",
    "var_percentage = 95\n",
    "portfolio_value = 1000000\n",
    "\n",
    "var = np.percentile(portfolio_simple_returns, 100 - var_percentage) * portfolio_value\n",
    "print(var)"
   ]
  },
  {
   "cell_type": "markdown",
   "id": "41242d55",
   "metadata": {},
   "source": [
    "## Conditional Value at Risk"
   ]
  },
  {
   "cell_type": "code",
   "execution_count": null,
   "id": "a7719ca7",
   "metadata": {},
   "outputs": [],
   "source": [
    "#Conditional VaR / Expected Shortfall => E[Loss/Loss > VaR]\n",
    "\n",
    "c_var = portfolio_simple_returns[portfolio_simple_returns <= np.percentile(portfolio_simple_returns, 100 - var_percentage )].mean()\n",
    "c_var = c_var * portfolio_value\n",
    "c_var"
   ]
  }
 ],
 "metadata": {
  "kernelspec": {
   "display_name": "quant-risk",
   "language": "python",
   "name": "python3"
  },
  "language_info": {
   "codemirror_mode": {
    "name": "ipython",
    "version": 3
   },
   "file_extension": ".py",
   "mimetype": "text/x-python",
   "name": "python",
   "nbconvert_exporter": "python",
   "pygments_lexer": "ipython3",
   "version": "3.11.9"
  }
 },
 "nbformat": 4,
 "nbformat_minor": 5
}
