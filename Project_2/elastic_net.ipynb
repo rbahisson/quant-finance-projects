{
 "cells": [
  {
   "cell_type": "code",
   "execution_count": null,
   "id": "27d6b68b",
   "metadata": {},
   "outputs": [],
   "source": [
    "import yfinance as yf \n",
    "\n",
    "### All of the following necessary for Elastic Net Regression\n",
    "import numpy as np \n",
    "import pandas as pd \n",
    "from sklearn.linear_model import ElasticNet\n",
    "from sklearn.model_selection import train_test_split \n",
    "from sklearn.metrics import r2_score, mean_squared_error\n",
    "import matplotlib.pyplot as plt"
   ]
  },
  {
   "cell_type": "markdown",
   "id": "89e9732b",
   "metadata": {},
   "source": [
    "## Download"
   ]
  },
  {
   "cell_type": "code",
   "execution_count": null,
   "id": "7f2d255d",
   "metadata": {},
   "outputs": [],
   "source": [
    "tickers = ['AAPL', 'AMZN', 'MSFT', 'QQQ', '^GSPC']\n",
    "df = yf.download(tickers, start = '2020-01-01', end='2025-04-01')['Close']\n",
    "df.head()"
   ]
  },
  {
   "cell_type": "markdown",
   "id": "f63e606a",
   "metadata": {},
   "source": [
    "## Feature Engineering"
   ]
  },
  {
   "cell_type": "code",
   "execution_count": null,
   "id": "5be08f46",
   "metadata": {},
   "outputs": [],
   "source": [
    "#Yesterday's values\n",
    "df['AAPL(t-1)'] = df['AAPL'].shift(1)\n",
    "df['AMZN(t-1)'] = df['AMZN'].shift(1)\n",
    "df['MSFT(t-1)'] = df['MSFT'].shift(1)\n",
    "df['QQQ(t-1)'] = df['QQQ'].shift(1)\n",
    "df['^GSPC(t-1)'] = df['^GSPC'].shift(1)\n",
    "\n",
    "#Moving Average (MA): Indicator for short term trend \n",
    "df['AAPL_MA_5'] = df['AAPL'].rolling(window = 5).mean()\n",
    "df['AMZN_MA_5'] = df['AMZN'].rolling(window = 5).mean()\n",
    "df['MSFT_MA_5'] = df['MSFT'].rolling(window = 5).mean()\n",
    "df['QQQ_MA_5'] = df['QQQ'].rolling(window = 5).mean()\n",
    "df['^GSPC_MA_5'] = df['^GSPC'].rolling(window = 5).mean()\n",
    "\n",
    "#Target variable \n",
    "df['Target'] = df['AAPL'].shift(-1)\n",
    "\n",
    "df = df.dropna()"
   ]
  },
  {
   "cell_type": "markdown",
   "id": "b65b5e4a",
   "metadata": {},
   "source": [
    "## Elastic Net Regression "
   ]
  },
  {
   "cell_type": "markdown",
   "id": "11daf8ec",
   "metadata": {},
   "source": [
    "### 1) Define Features and Target Variables"
   ]
  },
  {
   "cell_type": "code",
   "execution_count": null,
   "id": "98892ae9",
   "metadata": {},
   "outputs": [],
   "source": [
    "X = df[['AAPL(t-1)', 'AMZN(t-1)', 'MSFT(t-1)', 'QQQ(t-1)', '^GSPC(t-1)',\n",
    "        'AAPL_MA_5', 'AMZN_MA_5', 'MSFT_MA_5', 'QQQ_MA_5', '^GSPC_MA_5']]\n",
    "\n",
    "Y = df['Target']"
   ]
  },
  {
   "cell_type": "markdown",
   "id": "15e076c2",
   "metadata": {},
   "source": [
    "### 2) Train Test Split"
   ]
  },
  {
   "cell_type": "code",
   "execution_count": null,
   "id": "15010f38",
   "metadata": {},
   "outputs": [],
   "source": [
    "# 95.6% training and 4.4% testing \n",
    "X_train, X_test, Y_train, Y_test = train_test_split(X, Y, test_size=0.044, shuffle=False)"
   ]
  },
  {
   "cell_type": "markdown",
   "id": "6648e375",
   "metadata": {},
   "source": [
    "### 3) Apply Elastic Net Regression"
   ]
  },
  {
   "cell_type": "code",
   "execution_count": null,
   "id": "57f9c0ee",
   "metadata": {},
   "outputs": [],
   "source": [
    "elasticnet = ElasticNet(alpha = 1, l1_ratio = 0.5) #50% lasso 50% ridge\n",
    "elasticnet.fit(X_train, Y_train)"
   ]
  },
  {
   "cell_type": "markdown",
   "id": "270b823d",
   "metadata": {},
   "source": [
    "### 4) Get intercept and Coeff for Elastic Net Regression "
   ]
  },
  {
   "cell_type": "code",
   "execution_count": null,
   "id": "54b1b921",
   "metadata": {},
   "outputs": [],
   "source": [
    "coefficients = elasticnet.coef_ \n",
    "\n",
    "intercept = elasticnet.intercept_\n",
    "\n",
    "coeff_df = pd.DataFrame({'Feature':X.columns, 'Coefficients':coefficients})\n",
    "#coeff_df.head()"
   ]
  },
  {
   "cell_type": "markdown",
   "id": "b1a874f0",
   "metadata": {},
   "source": [
    "### 5) Predict using Elastic Net Regression"
   ]
  },
  {
   "cell_type": "code",
   "execution_count": null,
   "id": "b41dbf1e",
   "metadata": {},
   "outputs": [],
   "source": [
    "y_pred = elasticnet.predict(X_test)"
   ]
  },
  {
   "cell_type": "markdown",
   "id": "9142b3c2",
   "metadata": {},
   "source": [
    "### 6) Create a dataframe with Actual and Predicted Values "
   ]
  },
  {
   "cell_type": "code",
   "execution_count": null,
   "id": "6eb72c8c",
   "metadata": {},
   "outputs": [],
   "source": [
    "df_result = pd.DataFrame({'Actual': Y_test, 'Predicted': y_pred})"
   ]
  },
  {
   "cell_type": "markdown",
   "id": "f0631819",
   "metadata": {},
   "source": [
    "### 7) Plot Actual & Predicted Values "
   ]
  },
  {
   "cell_type": "code",
   "execution_count": null,
   "id": "d72d584a",
   "metadata": {},
   "outputs": [],
   "source": [
    "plt.figure(figsize = (14,6))\n",
    "plt.plot(df_result.index, df_result['Actual'], label = 'Actual', color = 'green')\n",
    "plt.plot(df_result.index, df_result['Predicted'], label = 'Predicted', color = 'red')\n",
    "plt.title(\"Actual vs Prediction for AAPL Stock (2025) - Elastic Net Regression\")\n",
    "plt.xlabel(\"Date\")\n",
    "plt.ylabel(\"Stock Price\")\n",
    "plt.tight_layout()\n",
    "plt.grid(True)\n",
    "plt.show()"
   ]
  },
  {
   "cell_type": "markdown",
   "id": "11eab2db",
   "metadata": {},
   "source": [
    "### 8) Evaluate the model - R square, mse, rmse"
   ]
  },
  {
   "cell_type": "code",
   "execution_count": null,
   "id": "528ee2fd",
   "metadata": {},
   "outputs": [],
   "source": [
    "r2 = r2_score(Y_test, y_pred)\n",
    "print(\"R square\", r2)\n",
    "\n",
    "mse = mean_squared_error(Y_test, y_pred)\n",
    "print(\"mse\", mse)\n",
    "\n",
    "rmse = np.sqrt(mse)\n",
    "print(\"rmse\", rmse)"
   ]
  }
 ],
 "metadata": {
  "kernelspec": {
   "display_name": "quant-risk",
   "language": "python",
   "name": "python3"
  },
  "language_info": {
   "codemirror_mode": {
    "name": "ipython",
    "version": 3
   },
   "file_extension": ".py",
   "mimetype": "text/x-python",
   "name": "python",
   "nbconvert_exporter": "python",
   "pygments_lexer": "ipython3",
   "version": "3.11.9"
  }
 },
 "nbformat": 4,
 "nbformat_minor": 5
}
