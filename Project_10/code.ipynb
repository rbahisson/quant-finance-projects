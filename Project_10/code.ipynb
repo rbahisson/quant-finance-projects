{
 "cells": [
  {
   "cell_type": "markdown",
   "id": "005e34a2",
   "metadata": {},
   "source": [
    "# Total Portfolio Risk Analysis"
   ]
  },
  {
   "cell_type": "code",
   "execution_count": null,
   "id": "8cc44e57",
   "metadata": {},
   "outputs": [],
   "source": [
    "import yfinance as yf\n",
    "import numpy as np\n",
    "import pandas as pd\n",
    "from scipy.stats import norm\n",
    "import matplotlib.pyplot as plt\n",
    "import math \n",
    "\n",
    "pd.set_option(\"display.float_format\", lambda x: f\"{x:,.4f}\")"
   ]
  },
  {
   "cell_type": "markdown",
   "id": "56f7bb08",
   "metadata": {},
   "source": [
    "### Portfolio Builder"
   ]
  },
  {
   "cell_type": "code",
   "execution_count": null,
   "id": "29e2c858",
   "metadata": {},
   "outputs": [],
   "source": [
    "portfolio = pd.DataFrame(columns=[\"ticker\",\"style\",\"type\",\"strike\",\"maturity\",\"quantity\",\"spot\",\"sigma\",\"q_div\"])\n",
    "\n",
    "def add_instrument(ticker, style, opt_type, strike, maturity, quantity):\n",
    "    spot, q = fetch_spot_and_dividend_yield(ticker)\n",
    "    rets = fetch_returns([ticker])\n",
    "    sigma = float(rets[ticker].std() * math.sqrt(252))\n",
    "    new_row = dict(ticker=ticker, style=style, type=opt_type,\n",
    "                   strike=strike, maturity=maturity, quantity=quantity,\n",
    "                   spot=spot, sigma=sigma, q_div=q)\n",
    "    global portfolio\n",
    "    portfolio = pd.concat([portfolio, pd.DataFrame([new_row])], ignore_index=True)\n",
    "    print(f\"Added {ticker} | spot={spot:.2f} | sigma={sigma:.2f} | q={q:.3f}\")"
   ]
  },
  {
   "cell_type": "markdown",
   "id": "e4700f4e",
   "metadata": {},
   "source": [
    "### Helper functions"
   ]
  },
  {
   "cell_type": "markdown",
   "id": "0634aaad",
   "metadata": {},
   "source": [
    "#### European options"
   ]
  },
  {
   "cell_type": "code",
   "execution_count": null,
   "id": "d8c43c31",
   "metadata": {},
   "outputs": [],
   "source": [
    "def bs_d1_d2(S, K, r, q, sigma, T): ### BS Model pricing\n",
    "    if S <= 0 or K <= 0 or sigma <= 0 or T <= 0:\n",
    "        return np.nan, np.nan\n",
    "    d1 = (math.log(S/K) + (r - q + 0.5*sigma**2)*T) / (sigma*math.sqrt(T))\n",
    "    d2 = d1 - sigma*math.sqrt(T)\n",
    "    return d1, d2\n",
    "\n",
    "def bs_price_greeks(S, K, r, q, sigma, T, opt_type=\"Call\"): ### Greeks for European\n",
    "    opt_type = opt_type.lower()\n",
    "    d1, d2 = bs_d1_d2(S, K, r, q, sigma, T)\n",
    "    if np.isnan(d1):\n",
    "        return {k: np.nan for k in [\"price\",\"delta\",\"gamma\",\"vega\",\"theta\"]}\n",
    "\n",
    "    Nd1 = norm.cdf(d1)\n",
    "    Nd2 = norm.cdf(d2)\n",
    "    nd1 = norm.pdf(d1)\n",
    "\n",
    "    if opt_type == \"call\":\n",
    "        price = S*math.exp(-q*T)*Nd1 - K*math.exp(-r*T)*Nd2\n",
    "        delta = math.exp(-q*T)*Nd1\n",
    "        theta = (-S*nd1*sigma*math.exp(-q*T)/(2*math.sqrt(T))) - r*K*math.exp(-r*T)*Nd2 + q*S*math.exp(-q*T)*Nd1\n",
    "    else:\n",
    "        price = K*math.exp(-r*T)*norm.cdf(-d2) - S*math.exp(-q*T)*norm.cdf(-d1)\n",
    "        delta = math.exp(-q*T)*(Nd1 - 1)\n",
    "        theta = (-S*nd1*sigma*math.exp(-q*T)/(2*math.sqrt(T))) + r*K*math.exp(-r*T)*norm.cdf(-d2) - q*S*math.exp(-q*T)*norm.cdf(-d1)\n",
    "\n",
    "    gamma = math.exp(-q*T)*nd1/(S*sigma*math.sqrt(T))\n",
    "    vega = S*math.exp(-q*T)*nd1*math.sqrt(T)/100\n",
    "    return dict(price=price, delta=delta, gamma=gamma, vega=vega, theta=theta/365)\n"
   ]
  },
  {
   "cell_type": "markdown",
   "id": "ecf39273",
   "metadata": {},
   "source": [
    "#### American Options"
   ]
  },
  {
   "cell_type": "code",
   "execution_count": null,
   "id": "aed6ed8e",
   "metadata": {},
   "outputs": [],
   "source": [
    "def crr_binomial_american(S, K, r, q, sigma, T, steps=200, opt_type=\"Call\"): ### Binomial Tree Pricing\n",
    "    dt = T / steps\n",
    "    u = math.exp(sigma * math.sqrt(dt))\n",
    "    d = 1 / u\n",
    "    a = math.exp((r - q) * dt)\n",
    "    p = (a - d) / (u - d)\n",
    "    p = min(max(p, 0), 1)\n",
    "\n",
    "    prices = np.array([S * (u ** j) * (d ** (steps - j)) for j in range(steps + 1)])\n",
    "    values = np.maximum(prices - K, 0) if opt_type.lower() == \"call\" else np.maximum(K - prices, 0)\n",
    "    disc = math.exp(-r * dt)\n",
    "\n",
    "    for i in range(steps - 1, -1, -1):\n",
    "        prices = prices[:-1] * u\n",
    "        values = disc * (p * values[1:] + (1 - p) * values[:-1])\n",
    "        if opt_type.lower() == \"call\":\n",
    "            values = np.maximum(values, prices - K)\n",
    "        else:\n",
    "            values = np.maximum(values, K - prices)\n",
    "    return values[0]\n",
    "\n",
    "def american_price_greeks_fd(S, K, r, q, sigma, T, steps=200, opt_type=\"Call\", bump=0.01): ### Finite Difference Greeks\n",
    "    base = crr_binomial_american(S, K, r, q, sigma, T, steps, opt_type)\n",
    "    dS = S * bump\n",
    "    up = crr_binomial_american(S + dS, K, r, q, sigma, T, steps, opt_type)\n",
    "    down = crr_binomial_american(S - dS, K, r, q, sigma, T, steps, opt_type)\n",
    "    delta = (up - down) / (2 * dS)\n",
    "    gamma = (up - 2 * base + down) / (dS ** 2)\n",
    "\n",
    "    dsig = sigma * bump\n",
    "    upv = crr_binomial_american(S, K, r, q, sigma + dsig, T, steps, opt_type)\n",
    "    vega = (upv - base) / (dsig * 100)\n",
    "\n",
    "    dT = min(1/365, T/50)\n",
    "    theta = (crr_binomial_american(S, K, r, q, sigma, T - dT, steps, opt_type) - base) / dT / 365\n",
    "    return dict(price=base, delta=delta, gamma=gamma, vega=vega, theta=theta)\n"
   ]
  },
  {
   "cell_type": "markdown",
   "id": "229f51f4",
   "metadata": {},
   "source": [
    "#### Market Data via yfinance"
   ]
  },
  {
   "cell_type": "code",
   "execution_count": null,
   "id": "4e658794",
   "metadata": {},
   "outputs": [],
   "source": [
    "def fetch_spot_and_dividend_yield(ticker):\n",
    "    tk = yf.Ticker(ticker)\n",
    "    hist = tk.history(period=\"3y\")\n",
    "    spot = float(hist[\"Close\"].iloc[-1])\n",
    "    divs = tk.dividends\n",
    "    if divs is None or len(divs) == 0:\n",
    "        q = 0\n",
    "    else:\n",
    "        q = float(divs[-4:].sum() / spot) \n",
    "    return spot, q\n",
    "\n",
    "def fetch_returns(tickers):\n",
    "    data = yf.download(tickers, period=\"3y\")[\"Close\"]\n",
    "    rets = np.log(data/data.shift(1)).dropna()\n",
    "    return rets"
   ]
  },
  {
   "cell_type": "markdown",
   "id": "67072658",
   "metadata": {},
   "source": [
    "#### Risk Computation and VaR"
   ]
  },
  {
   "cell_type": "code",
   "execution_count": null,
   "id": "2b3bd3a2",
   "metadata": {},
   "outputs": [],
   "source": [
    "def instrument_metrics(row, rf=0.04):\n",
    "    S,K,T,q,sigma,qty=row[\"spot\"],row[\"strike\"],row[\"maturity\"],row[\"q_div\"],row[\"sigma\"],row[\"quantity\"]\n",
    "    if row[\"style\"].lower()==\"european\":\n",
    "        g=bs_price_greeks(S,K,rf,q,sigma,T,row[\"type\"])\n",
    "    else:\n",
    "        g=american_price_greeks_fd(S,K,rf,q,sigma,T,opt_type=row[\"type\"])\n",
    "    return {k:v*qty for k,v in g.items()}\n",
    "\n",
    "def compute_portfolio_table():\n",
    "    res=[]\n",
    "    for _,r in portfolio.iterrows():\n",
    "        m=instrument_metrics(r)\n",
    "        res.append(dict(ticker=r[\"ticker\"],type=r[\"type\"],style=r[\"style\"],strike=r[\"strike\"],mat=r[\"maturity\"],**m))\n",
    "    df=pd.DataFrame(res)\n",
    "    total=df[[\"price\",\"delta\",\"gamma\",\"vega\",\"theta\"]].sum()\n",
    "    df.loc[\"TOTAL\"]=[\"\",\"\",\"\",\"\",0,total[\"price\"],total[\"delta\"],total[\"gamma\"],total[\"vega\"],total[\"theta\"]]\n",
    "    return df\n",
    "\n",
    "def historical_var(conf=0.95):\n",
    "    tickers = list(portfolio[\"ticker\"].unique())\n",
    "    rets = fetch_returns(tickers)\n",
    "    pnl=[]\n",
    "    for date,row in rets.iterrows():\n",
    "        day_pnl=0\n",
    "        for _,p in portfolio.iterrows():\n",
    "            delta=instrument_metrics(p)[\"delta\"]\n",
    "            S=p[\"spot\"]; r=row[p[\"ticker\"]]\n",
    "            day_pnl+=delta*S*r\n",
    "        pnl.append(day_pnl)\n",
    "    pnl=pd.Series(pnl)\n",
    "    var=np.quantile(-pnl,conf)\n",
    "    return var,pnl\n"
   ]
  },
  {
   "cell_type": "markdown",
   "id": "f59ed409",
   "metadata": {},
   "source": [
    "#### Run analysis"
   ]
  },
  {
   "cell_type": "code",
   "execution_count": null,
   "id": "ab0c3e51",
   "metadata": {},
   "outputs": [],
   "source": [
    "def run_risk_analysis():\n",
    "    table=compute_portfolio_table()\n",
    "    display(table)\n",
    "    var,pnl=historical_var()\n",
    "    print(f\"Portfolio PV: ${table.loc['TOTAL','price']:.2f}\")\n",
    "    print(f\"Delta: {table.loc['TOTAL','delta']:.2f}, Gamma: {table.loc['TOTAL','gamma']:.4f}, Vega: {table.loc['TOTAL','vega']:.2f}, Theta: {table.loc['TOTAL','theta']:.2f}\")\n",
    "    print(f\"95% 1-Day VaR: ${var:.2f}\")\n",
    "    pnl.hist(bins=40); plt.title(\"Portfolio Daily P&L\"); plt.show()\n"
   ]
  },
  {
   "cell_type": "markdown",
   "id": "7ab642f4",
   "metadata": {},
   "source": [
    "### Run analysis"
   ]
  },
  {
   "cell_type": "code",
   "execution_count": null,
   "id": "8faf098c",
   "metadata": {},
   "outputs": [],
   "source": [
    "### add_instrument(ticker, style, opt_type, strike, maturity, quantity)\n",
    "# Ticker: AAPL, MSFT, TSLA, SPY\n",
    "# Style: European or American \n",
    "# opt_type: Call or Put \n",
    "# strike: strike price \n",
    "# maturity: in years \n",
    "# quantity: Positive for long and Negative for short \n",
    "\n",
    "portfolio = pd.DataFrame(columns=portfolio.columns)  # reset\n",
    "add_instrument(\"AAPL\",\"European\",\"Call\",100,1.0,100)\n",
    "add_instrument(\"MSFT\",\"American\",\"Put\",300,3,-50)\n",
    "add_instrument(\"TSLA\",\"American\",\"Put\",300,0.5,-50)\n",
    "add_instrument(\"MSFT\",\"European\",\"Put\",300,2,100)\n",
    "add_instrument(\"SPY\",\"European\",\"Put\",200,5,-250)\n",
    "\n",
    "\n",
    "run_risk_analysis()"
   ]
  }
 ],
 "metadata": {
  "kernelspec": {
   "display_name": "Python (quant-risk)",
   "language": "python",
   "name": "quant-risk"
  },
  "language_info": {
   "codemirror_mode": {
    "name": "ipython",
    "version": 3
   },
   "file_extension": ".py",
   "mimetype": "text/x-python",
   "name": "python",
   "nbconvert_exporter": "python",
   "pygments_lexer": "ipython3",
   "version": "3.11.9"
  }
 },
 "nbformat": 4,
 "nbformat_minor": 5
}
